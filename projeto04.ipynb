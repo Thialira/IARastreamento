{
 "cells": [
  {
   "cell_type": "markdown",
   "metadata": {},
   "source": [
    "# Projeto 04 -  Programa de IA que reconhece a quantidade de mãos\n",
    "\n",
    "    No terminal:\n",
    "\n",
    " - `pip install opencv-python`\n",
    " - `pip install mediapipe`\n",
    " - `pip install cvzone`\n",
    "\n",
    " No jupiter notebook:\n",
    "\n",
    "- `!pip install opencv-python`\n",
    " - `!pip install mediapipe`\n",
    " - `!pip install cvzone`"
   ]
  },
  {
   "cell_type": "markdown",
   "metadata": {},
   "source": [
    "#### Loopings com `while`"
   ]
  },
  {
   "cell_type": "code",
   "execution_count": 1,
   "metadata": {},
   "outputs": [
    {
     "name": "stdout",
     "output_type": "stream",
     "text": [
      "5\n",
      "4\n",
      "3\n",
      "2\n",
      "1\n"
     ]
    }
   ],
   "source": [
    "# aprendendo sobre como fazer loop com o while\n",
    "\n",
    "contador = 5\n",
    "\n",
    "while contador > 0:\n",
    "    print(contador)\n",
    "    contador =  contador - 1"
   ]
  },
  {
   "cell_type": "markdown",
   "metadata": {},
   "source": [
    "#### Testes lógicom com `if`"
   ]
  },
  {
   "cell_type": "code",
   "execution_count": 5,
   "metadata": {},
   "outputs": [
    {
     "name": "stdout",
     "output_type": "stream",
     "text": [
      "Melhor linguagem do mundo!!\n"
     ]
    }
   ],
   "source": [
    "# aprendendo sobre como fazer um teste lógico - Usando o comando igaul ==\n",
    "linguagem = \"Python\"\n",
    "\n",
    "if linguagem == \"Python\":\n",
    "    print(\"Melhor linguagem do mundo!!\")"
   ]
  },
  {
   "cell_type": "code",
   "execution_count": 7,
   "metadata": {},
   "outputs": [
    {
     "name": "stdout",
     "output_type": "stream",
     "text": [
      "Não é a melhor linguagem do mundo!!\n"
     ]
    }
   ],
   "source": [
    "# aprendendo sobre como fazer um teste lógico - Usando o comando diferente !=\n",
    "linguagem = \"Cobol\"\n",
    "\n",
    "if linguagem != \"Python\":\n",
    "    print(\"Não é a melhor linguagem do mundo!!\")"
   ]
  },
  {
   "cell_type": "markdown",
   "metadata": {},
   "source": [
    "#### Looping infinitos"
   ]
  },
  {
   "cell_type": "code",
   "execution_count": 8,
   "metadata": {},
   "outputs": [
    {
     "name": "stdout",
     "output_type": "stream",
     "text": [
      "Olá\n",
      "Sexta\n",
      "Sexta\n",
      "Hoje\n",
      "Python\n",
      "Aprendendo\n",
      "parar\n"
     ]
    }
   ],
   "source": [
    "# Aprendendo sobre while  e looping infinito\n",
    "\n",
    "while True:\n",
    "    mensagem = input(\"Digite algo: \")\n",
    "    print(mensagem)\n",
    "\n",
    "    if mensagem == \"parar\":\n",
    "        break"
   ]
  }
 ],
 "metadata": {
  "kernelspec": {
   "display_name": "Python 3",
   "language": "python",
   "name": "python3"
  },
  "language_info": {
   "codemirror_mode": {
    "name": "ipython",
    "version": 3
   },
   "file_extension": ".py",
   "mimetype": "text/x-python",
   "name": "python",
   "nbconvert_exporter": "python",
   "pygments_lexer": "ipython3",
   "version": "3.12.4"
  }
 },
 "nbformat": 4,
 "nbformat_minor": 2
}
